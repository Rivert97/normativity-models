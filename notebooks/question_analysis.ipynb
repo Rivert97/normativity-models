{
 "cells": [
  {
   "cell_type": "markdown",
   "metadata": {},
   "source": [
    "# Analyzing individual questions from the dataset"
   ]
  },
  {
   "cell_type": "code",
   "execution_count": 39,
   "metadata": {},
   "outputs": [],
   "source": [
    "# Library imports\n",
    "import os\n",
    "\n",
    "import pandas as pd\n",
    "import numpy as np\n",
    "from datasets import load_dataset\n",
    "import matplotlib.pyplot as plt\n",
    "from sentence_transformers import util"
   ]
  },
  {
   "cell_type": "code",
   "execution_count": 40,
   "metadata": {},
   "outputs": [],
   "source": [
    "# Global variables\n",
    "MODEL = 'multi-qa-mpnet-base-dot-v1'\n",
    "DATA_PATH = '../data'\n",
    "DATA_EMBEDDINGS_PATH = f'../data_embeddings/{MODEL}'\n",
    "DATASET_EMBEDDINGS_PATH = f'../dataset_embeddings/{MODEL}'\n",
    "DATASET_NAME = 'Rivert97/ug-normativity'\n",
    "\n",
    "# Other Variables\n",
    "filename = 'ley-organica-de-la-universidad-de-guanajuato'\n",
    "#filename = 'estatuto-organico-de-la-universidad-de-guanajuato'\n",
    "#filename = 'reglamento-de-mecanismos-alternos-de-solucion-de-controversias-ug-ugto'"
   ]
  },
  {
   "cell_type": "code",
   "execution_count": 41,
   "metadata": {},
   "outputs": [],
   "source": [
    "# Loading the data\n",
    "data = pd.read_csv(os.path.join(DATA_PATH, f\"{filename}.csv\"), sep=',')\n",
    "embeddings = pd.read_csv(os.path.join(DATA_EMBEDDINGS_PATH, f\"{filename}.csv\"), sep=',', index_col=0)"
   ]
  },
  {
   "cell_type": "code",
   "execution_count": 42,
   "metadata": {},
   "outputs": [],
   "source": [
    "# Loading questions dataset\n",
    "dataset = load_dataset(DATASET_NAME)\n",
    "dataset = dataset['train']\n",
    "dataset = dataset.filter(lambda row: row['title'] == filename)\n",
    "\n",
    "questions_embeddings = pd.read_csv(os.path.join(DATASET_EMBEDDINGS_PATH, f\"{filename}.csv\"), sep=',', index_col=0)"
   ]
  },
  {
   "cell_type": "markdown",
   "metadata": {},
   "source": [
    "# Analyzing Question"
   ]
  },
  {
   "cell_type": "code",
   "execution_count": 43,
   "metadata": {},
   "outputs": [
    {
     "name": "stdout",
     "output_type": "stream",
     "text": [
      "ID: 28738544e42b076370fc813c5711852a\n",
      "Sentence: ¿Cuál es el fundamento legal que sustenta la Ley Orgánica?\n",
      "Embedding: 0     -0.353499\n",
      "1      0.290611\n",
      "2     -0.296301\n",
      "3      0.106464\n",
      "4      0.137439\n",
      "         ...   \n",
      "763    0.156694\n",
      "764   -0.138280\n",
      "765   -0.353606\n",
      "766   -0.132102\n",
      "767    0.200108\n",
      "Name: 28738544e42b076370fc813c5711852a, Length: 768, dtype: float64\n"
     ]
    }
   ],
   "source": [
    "# Select question\n",
    "question = dataset[1]\n",
    "q_embedding = questions_embeddings.loc[question['id']]\n",
    "\n",
    "print(\"ID:\", question['id'])\n",
    "print(\"Sentence:\", question['question'])\n",
    "print(\"Embedding:\", q_embedding)"
   ]
  },
  {
   "cell_type": "code",
   "execution_count": 46,
   "metadata": {},
   "outputs": [
    {
     "name": "stdout",
     "output_type": "stream",
     "text": [
      "Distance: tensor(28.7596, dtype=torch.float64)\n",
      "Chunk text: Se abroga la Ley Orgánica de la Universidad de Guanajuato, contenida en el Decreto número 279, emitido por la Quincuagésima Quinta Legislatura del Estado de Guanajuato, publicado en el Periódico Oficial del Gobierno del Estado número 39, de fecha 17 de mayo de 1994.\n",
      "Parent: ARTÍCULO SEGUNDO\n",
      "\n",
      "ANSWER:\n",
      "Distance: tensor(28.6993, dtype=torch.float64)\n",
      "Chunk text: Esta Ley, el Estatuto Orgánico, sus reglamentos y las disposiciones de carácter general que de ella deriven, se sujetarán a lo dispuesto en el artículo 3º de la Constitución Política de los Estados Unidos Mexicanos y demás ordenamientos aplicables.\n",
      "Parent: Artículo 2\n",
      "\n",
      "Distance: tensor(25.4856, dtype=torch.float64)\n",
      "Chunk text: El Consejo General Universitario, con base a lo establecido en la Ley de la materia, incluirá en el Estatuto Orgánico un apartado sobre la responsabilidad del personal administrativo de la Universidad, el cual contendrá sus obligaciones específicas. El órgano interno de control de la Universidad será la responsable de tramitar el procedimiento y, en su caso, aplicar las sanciones correspondientes.\n",
      "Artículo reformado P. O. 27-12-2016\n",
      "Parent: Artículo 62\n",
      "\n",
      "Distance: tensor(24.7855, dtype=torch.float64)\n",
      "Chunk text: DICTAMEN DE LA COMISIÓN DE GOBERNACIÓN Y PUNTOS CONSTITUCIONALES DEL CONGRESO DEL ESTADO C. DIP. RUTH ESPERANZA LUGO MARTÍNEZ PRESIDENTA DEL CONGRESO DEL ESTADO P R E S E N T E La Comisión de Gobernación y Puntos Constitucionales recibió para efectos de estudio y dictamen, la Iniciativa de Ley Orgánica de la Universidad de Guanajuato, presentada por el Gobernador del Estado, ante la Quincuagésima Novena Legislatura del Congreso del Estado.\n",
      "Analizada la iniciativa de referencia, esta Comisión Legislativa de conformidad con las atribuciones que le establecen los artículos 95, fracción II y 149 de la Ley Orgánica del Poder Legislativo del Estado Libre y Soberano de Guanajuato, formula la Asamblea el siguiente\n",
      "Parent: LEY ORGÁNICA DE LA UNIVERSIDAD DE GUANAJUATO\n",
      "\n",
      "Distance: tensor(24.5354, dtype=torch.float64)\n",
      "Chunk text: El Consejo General Universitario, para la elaboración del Estatuto Orgánico y demás reglamentos, deberá observar los principios de buena fe y respeto mutuo, con el objetivo de alcanzar la excelencia académica y pertinencia social, en el marco de la verdad y la libertad.\n",
      "Parent: Artículo 57\n",
      "\n",
      "Answer in Top-5? True\n"
     ]
    }
   ],
   "source": [
    "# Get nearest neighbors\n",
    "k = 5\n",
    "scores = util.dot_score(q_embedding.values, embeddings.values)\n",
    "doc_score_pairs = list(zip(data.index.tolist(), scores[0]))\n",
    "\n",
    "doc_score_pairs = sorted(doc_score_pairs, key=lambda x: x[1], reverse=True)\n",
    "\n",
    "context_in_chunks = False\n",
    "for pair in doc_score_pairs[:k]:\n",
    "    chunk = data.loc[pair[0]]\n",
    "\n",
    "    if chunk['path'].lower().endswith(question['context'].lower()):\n",
    "        context_in_chunks = True\n",
    "        print(\"ANSWER:\")\n",
    "\n",
    "    print(\"Distance:\", pair[1])\n",
    "    print(\"Chunk text:\", chunk['sentences'])\n",
    "    print(\"Parent:\", chunk['parent'])\n",
    "    print()\n",
    "\n",
    "\n",
    "print(f\"Answer in Top-{k}?\", context_in_chunks)\n"
   ]
  }
 ],
 "metadata": {
  "kernelspec": {
   "display_name": "Tesis",
   "language": "python",
   "name": "tesis"
  },
  "language_info": {
   "codemirror_mode": {
    "name": "ipython",
    "version": 3
   },
   "file_extension": ".py",
   "mimetype": "text/x-python",
   "name": "python",
   "nbconvert_exporter": "python",
   "pygments_lexer": "ipython3",
   "version": "3.12.7"
  }
 },
 "nbformat": 4,
 "nbformat_minor": 2
}
